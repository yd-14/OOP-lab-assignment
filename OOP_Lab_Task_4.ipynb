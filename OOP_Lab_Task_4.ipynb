{
  "nbformat": 4,
  "nbformat_minor": 0,
  "metadata": {
    "colab": {
      "name": "OOP_Lab_Task_4.ipynb",
      "provenance": [],
      "collapsed_sections": [],
      "authorship_tag": "ABX9TyPpYUDkg7ZGmJSpRzg2uxjY",
      "include_colab_link": true
    },
    "kernelspec": {
      "name": "python3",
      "display_name": "Python 3"
    },
    "language_info": {
      "name": "python"
    }
  },
  "cells": [
    {
      "cell_type": "markdown",
      "metadata": {
        "id": "view-in-github",
        "colab_type": "text"
      },
      "source": [
        "<a href=\"https://colab.research.google.com/github/yd-14/OOP-lab-assignment/blob/main/OOP_Lab_Task_4.ipynb\" target=\"_parent\"><img src=\"https://colab.research.google.com/assets/colab-badge.svg\" alt=\"Open In Colab\"/></a>"
      ]
    },
    {
      "cell_type": "code",
      "metadata": {
        "colab": {
          "base_uri": "https://localhost:8080/"
        },
        "id": "vYAnXRKeKQqp",
        "outputId": "62c68530-de5a-45df-8d9c-cfb557aeccbb"
      },
      "source": [
        "class node:\n",
        "  def __init__(self, d):\n",
        "    self.data=d\n",
        "    self.next=None\n",
        "\n",
        "  def __del__(self):\n",
        "    print(\"*deallocating node*\", self.data)\n",
        "\n",
        "class stack:\n",
        "  def __init__(self, head=None):\n",
        "    self.head=head\n",
        "\n",
        "  def insert(self, data):\n",
        "    n = node(data)\n",
        "    if self.head is None:\n",
        "      self.head = n\n",
        "    else:\n",
        "      n.next = self.head\n",
        "      self.head = n\n",
        "\n",
        "  def check_empty(self):\n",
        "    if not self.head:\n",
        "      return True\n",
        "    \n",
        "    return False\n",
        "\n",
        "  def delete(self):\n",
        "    if(self.check_empty()):\n",
        "      return\n",
        "\n",
        "    self.head=self.head.next\n",
        "\n",
        "  def display(self):\n",
        "    temp=self.head\n",
        "    while temp is not None:\n",
        "      print(temp.data)\n",
        "      temp=temp.next\n",
        "\n",
        "  def __del__(self):\n",
        "    while self.head is not None:\n",
        "      temp=self.head\n",
        "      self.head=self.head.next\n",
        "      del temp\n",
        "\n",
        "\n",
        "x = stack()\n",
        "print(\"Stack members\")\n",
        "x.insert(1)\n",
        "x.insert(2)\n",
        "x.insert(3)\n",
        "x.insert(4)\n",
        "x.display()\n",
        "\n",
        "print(\"\\nCheck Stack status:\")\n",
        "if x.check_empty():\n",
        "  print(\"Stack is empty\")\n",
        "else:\n",
        "  print(\"Stack not empty\")\n",
        "\n",
        "print()\n",
        "x.delete()\n",
        "print(\"Stack members after 1 operation pop\")\n",
        "x.display()\n",
        "\n",
        "print(\"\\nDeallocating all nodes\")\n",
        "del x"
      ],
      "execution_count": 47,
      "outputs": [
        {
          "output_type": "stream",
          "name": "stdout",
          "text": [
            "Stack members\n",
            "4\n",
            "3\n",
            "2\n",
            "1\n",
            "\n",
            "Check Stack status:\n",
            "Stack not empty\n",
            "\n",
            "*deallocating node* 4\n",
            "Stack members after 1 operation pop\n",
            "3\n",
            "2\n",
            "1\n",
            "\n",
            "Deallocating all nodes\n",
            "*deallocating node* 3\n",
            "*deallocating node* 2\n",
            "*deallocating node* 1\n"
          ]
        }
      ]
    },
    {
      "cell_type": "code",
      "metadata": {
        "colab": {
          "base_uri": "https://localhost:8080/"
        },
        "id": "0okZ2I-3PaEy",
        "outputId": "e20b3504-fc09-48e3-c529-d87958255a3d"
      },
      "source": [
        "class rect_area:\n",
        "  def __init__(self, a=1, b=1):\n",
        "    self.a=a\n",
        "    self.b=b\n",
        "    self.calc_area()\n",
        "\n",
        "  def calc_area(self):\n",
        "    print(\"Area=\", self.a*self.b)\n",
        "\n",
        "print(\"From parameterized constructor\")\n",
        "x=rect_area(2,3) #parameterized constructor\n",
        "print(\"From default constructor\")\n",
        "y=rect_area() #default constructor"
      ],
      "execution_count": 43,
      "outputs": [
        {
          "output_type": "stream",
          "name": "stdout",
          "text": [
            "From parameterized constructor\n",
            "Area= 6\n",
            "From default constructor\n",
            "Area= 1\n"
          ]
        }
      ]
    },
    {
      "cell_type": "code",
      "metadata": {
        "colab": {
          "base_uri": "https://localhost:8080/"
        },
        "id": "4CDFQNwvTA9C",
        "outputId": "c7fd47f2-ca20-4da8-9781-ec56179fb93f"
      },
      "source": [
        "class node:\n",
        "  def __init__(self, d):\n",
        "    self.data=d\n",
        "    self.next=None\n",
        "\n",
        "  def __del__(self):\n",
        "    print(\"*deallocating node*\", self.data)\n",
        "\n",
        "class queue:\n",
        "  def __init__(self, head=None, end=None):\n",
        "    self.head=head\n",
        "    self.end=end\n",
        "\n",
        "  def insert(self, data):\n",
        "    n = node(data)\n",
        "    if self.head is None:\n",
        "      self.head = self.end = n\n",
        "    else:\n",
        "      self.end.next=n\n",
        "      self.end=n\n",
        "\n",
        "  def check_empty(self):\n",
        "    if not self.head:\n",
        "      return True\n",
        "    \n",
        "    return False\n",
        "\n",
        "  def delete(self):\n",
        "    if(self.check_empty()):\n",
        "      return\n",
        "\n",
        "    self.head=self.head.next\n",
        "\n",
        "  def display(self):\n",
        "    temp=self.head\n",
        "    while temp is not None:\n",
        "      print(temp.data)\n",
        "      temp=temp.next\n",
        "\n",
        "  def __del__(self):\n",
        "    while self.head is not None:\n",
        "      temp=self.head\n",
        "      self.head=self.head.next\n",
        "      del temp\n",
        "\n",
        "x = queue()\n",
        "print(\"Queue members:\")\n",
        "x.insert(1)\n",
        "x.insert(2)\n",
        "x.insert(3)\n",
        "x.insert(4)\n",
        "x.display()\n",
        "\n",
        "print()\n",
        "x.delete()\n",
        "print(\"Queue after 1 dequeue operation\")\n",
        "x.display()\n",
        "\n",
        "print(\"\\nDeallocating all node\")\n",
        "del x"
      ],
      "execution_count": 41,
      "outputs": [
        {
          "output_type": "stream",
          "name": "stdout",
          "text": [
            "Queue members:\n",
            "1\n",
            "2\n",
            "3\n",
            "4\n",
            "\n",
            "*deallocating node* 1\n",
            "Queue after 1 dequeue operation\n",
            "2\n",
            "3\n",
            "4\n",
            "\n",
            "Deallocating all node\n",
            "*deallocating node* 2\n",
            "*deallocating node* 3\n",
            "*deallocating node* 4\n"
          ]
        }
      ]
    }
  ]
}