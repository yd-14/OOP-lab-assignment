{
  "nbformat": 4,
  "nbformat_minor": 0,
  "metadata": {
    "colab": {
      "name": "Lab-Assign2.ipynb",
      "provenance": [],
      "authorship_tag": "ABX9TyM02NG7GiSqT4fGsN2dIMNy",
      "include_colab_link": true
    },
    "kernelspec": {
      "name": "python3",
      "display_name": "Python 3"
    },
    "language_info": {
      "name": "python"
    }
  },
  "cells": [
    {
      "cell_type": "markdown",
      "metadata": {
        "id": "view-in-github",
        "colab_type": "text"
      },
      "source": [
        "<a href=\"https://colab.research.google.com/github/yd-14/OOP-lab-assignment/blob/main/Lab_Assign2.ipynb\" target=\"_parent\"><img src=\"https://colab.research.google.com/assets/colab-badge.svg\" alt=\"Open In Colab\"/></a>"
      ]
    },
    {
      "cell_type": "code",
      "metadata": {
        "colab": {
          "base_uri": "https://localhost:8080/"
        },
        "id": "wpynCa2iK-P5",
        "outputId": "1e9ea199-866c-4990-bcc2-364cb3737469"
      },
      "source": [
        "class circle:\n",
        "  def __init__(self, r):\n",
        "    self.radius=r\n",
        "  def area(self):\n",
        "    return 3.14*(self.radius**2)\n",
        "  def perimeter(self):\n",
        "    return 2*3.14*self.radius\n",
        "\n",
        "x=circle(int(input('Enter radius: ')))\n",
        "print('Area=', x.area())\n",
        "print('Perimeter=', x.perimeter())"
      ],
      "execution_count": null,
      "outputs": [
        {
          "output_type": "stream",
          "name": "stdout",
          "text": [
            "Enter radius: 2\n",
            "Area= 12.56\n",
            "Perimeter= 12.56\n"
          ]
        }
      ]
    },
    {
      "cell_type": "code",
      "metadata": {
        "colab": {
          "base_uri": "https://localhost:8080/"
        },
        "id": "32Ame-3SMABv",
        "outputId": "2f9404a2-360d-4795-af15-b8cd97fb9f13"
      },
      "source": [
        "class faculty:\n",
        "  def __init__(self):\n",
        "    self.name=input('Enter name: ')\n",
        "    self.id=int(input('Enter Emp_id: '))\n",
        "    self.branch=input('Branch name: ')\n",
        "    self.salary=int(input('Enter salary: '))\n",
        "    print()\n",
        "  def display(self):\n",
        "    print('Name:',self.name)\n",
        "    print('Emp_id:',self.id)\n",
        "    print('Branch:',self.branch)\n",
        "    print('Salary:',self.salary)\n",
        "\n",
        "lst=[]\n",
        "for i in range(0,5):\n",
        "  lst.append(faculty())\n",
        "\n",
        "for i in lst:\n",
        "  i.display()\n",
        "  print()"
      ],
      "execution_count": null,
      "outputs": [
        {
          "output_type": "stream",
          "name": "stdout",
          "text": [
            "Enter name: a\n",
            "Enter Emp_id: 1\n",
            "Branch name: cs\n",
            "Enter salary: 1\n",
            "Enter name: b\n",
            "Enter Emp_id: 2\n",
            "Branch name: cs\n",
            "Enter salary: 2\n",
            "Enter name: c\n",
            "Enter Emp_id: 3\n",
            "Branch name: cs\n",
            "Enter salary: 3\n",
            "Enter name: d\n",
            "Enter Emp_id: 4\n",
            "Branch name: cs\n",
            "Enter salary: 4\n",
            "Enter name: e\n",
            "Enter Emp_id: 5\n",
            "Branch name: ds\n",
            "Enter salary: 5\n",
            "Name: a\n",
            "Emp_id: 1\n",
            "Branch: cs\n",
            "Salary: 1\n",
            "\n",
            "Name: b\n",
            "Emp_id: 2\n",
            "Branch: cs\n",
            "Salary: 2\n",
            "\n",
            "Name: c\n",
            "Emp_id: 3\n",
            "Branch: cs\n",
            "Salary: 3\n",
            "\n",
            "Name: d\n",
            "Emp_id: 4\n",
            "Branch: cs\n",
            "Salary: 4\n",
            "\n",
            "Name: e\n",
            "Emp_id: 5\n",
            "Branch: ds\n",
            "Salary: 5\n",
            "\n"
          ]
        }
      ]
    },
    {
      "cell_type": "code",
      "metadata": {
        "colab": {
          "base_uri": "https://localhost:8080/"
        },
        "id": "5C_zr70pPFVW",
        "outputId": "69338346-bc14-4463-e79b-88a4892a0e2a"
      },
      "source": [
        "class banking:\n",
        "  def __init__(self):\n",
        "    self.acc_no=int(input('Enter account number: '))\n",
        "    self.name=input('Enter account holder\\'s name: ')\n",
        "    self.amount=int(input('Enter amount: '))\n",
        "    print()\n",
        "\n",
        "  def deposit(self, amo):\n",
        "    self.amount+=amo\n",
        "\n",
        "  def withdraw(self, amo):\n",
        "    self.amount-=amo\n",
        "\n",
        "  def check_balance(self):\n",
        "    print('Balance=', self.amount)\n",
        "\n",
        "  def dis_details(self):\n",
        "    print('Account number=', self.acc_no)\n",
        "    print('Name=', self.name)\n",
        "    print('Balance=', self.amount)\n",
        "\n",
        "x=banking()\n",
        "x.deposit(200)\n",
        "x.withdraw(10)\n",
        "x.check_balance()\n",
        "print()\n",
        "x.dis_details()"
      ],
      "execution_count": null,
      "outputs": [
        {
          "output_type": "stream",
          "name": "stdout",
          "text": [
            "Enter account number: 1002056\n",
            "Enter account holder's name: lmnop\n",
            "Enter amount: 1000\n",
            "\n",
            "Balance= 1190\n",
            "Account number= 1002056\n",
            "Name= lmnop\n",
            "Balance= 1190\n"
          ]
        }
      ]
    },
    {
      "cell_type": "code",
      "metadata": {
        "id": "6DwLyjQ3Xexr",
        "colab": {
          "base_uri": "https://localhost:8080/"
        },
        "outputId": "afe8f94b-4cac-4f94-d74c-3251f627241b"
      },
      "source": [
        "class student:\n",
        "  def __init__(self):\n",
        "    self.name=input('Enter name: ')\n",
        "    self.ucn=int(input('Enter UCN: '))\n",
        "    self.marks=[]\n",
        "    self.marks.append(int(input('Enter marks in Maths: ')))\n",
        "    self.marks.append(int(input('Enter marks in Physics: ')))\n",
        "    self.marks.append(int(input('Enter marks in Hindi: ')))\n",
        "\n",
        "  def display(self):\n",
        "    print('\\nName=', self.name)\n",
        "    print('UCN=', self.ucn)\n",
        "    print('Marks in maths:', self.marks[0])\n",
        "    print('Marks in Physics:', self.marks[1])\n",
        "    print('Marks in Hindi:', self.marks[2])\n",
        "\n",
        "x=student()\n",
        "x.display()"
      ],
      "execution_count": 2,
      "outputs": [
        {
          "output_type": "stream",
          "name": "stdout",
          "text": [
            "Enter name: abc\n",
            "Enter UCN: 140\n",
            "Enter marks in Maths: 20\n",
            "Enter marks in Physics: 25\n",
            "Enter marks in Hindi: 15\n",
            "\n",
            "Name= abc\n",
            "UCN= 140\n",
            "Marks in maths: 20\n",
            "Marks in Physics: 25\n",
            "Marks in Hindi: 15\n"
          ]
        }
      ]
    },
    {
      "cell_type": "code",
      "metadata": {
        "colab": {
          "base_uri": "https://localhost:8080/"
        },
        "id": "ZhqXgnWKSiQy",
        "outputId": "82012d20-c643-48a2-fc6d-4d3a3931f4c2"
      },
      "source": [
        "class patient:\n",
        "  def __init__(self):\n",
        "    self.name=input('Enter name: ')\n",
        "    self.date=input('Enter date: ')\n",
        "    self.symptoms=input('Enter list of symtoms: ').split(',')\n",
        "    self.o2_level=int(input('Enter O2 level: '))\n",
        "    self.discharge_date=input('Enter discharge date: ')\n",
        "    if(self.o2_level<90):\n",
        "       self.ward='general'\n",
        "    else:\n",
        "      self.ward='severe'\n",
        "\n",
        "  def get_O2(self):\n",
        "    return o2_level\n",
        "  def get_sver(self):\n",
        "    return self.ward\n",
        "\n",
        "class hospital:\n",
        "  def add_patient(self):\n",
        "    self.lst=[]\n",
        "    self.lst.append(patient())\n",
        "\n",
        "  def dis(self):\n",
        "    g=0\n",
        "    s=0\n",
        "    tot=len(self.lst)\n",
        "    for i in self.lst:\n",
        "      if(i.get_sver()=='severe'):\n",
        "        s+=1\n",
        "      else:\n",
        "        g+=1\n",
        "\n",
        "    print('Total:', tot,'General: ', g,'Severe: ', s)\n",
        "\n",
        "x=hospital()\n",
        "x.add_patient()\n",
        "x.add_patient()\n",
        "x.dis()"
      ],
      "execution_count": 32,
      "outputs": [
        {
          "output_type": "stream",
          "name": "stdout",
          "text": [
            "Enter name: abc\n",
            "Enter date: 12032021\n",
            "Enter list of symtoms: cough,taste\n",
            "Enter O2 level: 88\n",
            "Enter discharge date: 20032021\n",
            "Enter name: xyz\n",
            "Enter date: 13032021\n",
            "Enter list of symtoms: fever,sneeze\n",
            "Enter O2 level: 92\n",
            "Enter discharge date: 21032021\n",
            "Total: 1 General:  0 Severe:  1\n"
          ]
        }
      ]
    },
    {
      "cell_type": "code",
      "metadata": {
        "colab": {
          "base_uri": "https://localhost:8080/"
        },
        "id": "Jl5ZRG__xyTx",
        "outputId": "3ac76268-5bf8-4cc2-8056-1d33da2eed5e"
      },
      "source": [
        "class time:\n",
        "  def __init__(self, h=0, m=0, s=0):\n",
        "    self.hh=h\n",
        "    self.mm=m\n",
        "    self.ss=s\n",
        "\n",
        "  def dis_time(self):\n",
        "    print(self.hh,':',self.mm,':',self.ss)\n",
        "\n",
        "t=time()\n",
        "t.dis_time()"
      ],
      "execution_count": 3,
      "outputs": [
        {
          "output_type": "stream",
          "name": "stdout",
          "text": [
            "0 : 0 : 0\n"
          ]
        }
      ]
    },
    {
      "cell_type": "code",
      "metadata": {
        "colab": {
          "base_uri": "https://localhost:8080/"
        },
        "id": "4QtccWUo9oN8",
        "outputId": "aeca05a8-e2dc-46e9-e5e8-45acd3207be8"
      },
      "source": [
        "class student:\n",
        "  def __init__(self, name, age, roll_no):\n",
        "    self.n=name\n",
        "    self.a=age\n",
        "    self.r=roll_no\n",
        "\n",
        "  def getage(self):\n",
        "    return self.a\n",
        "\n",
        "class two_std():\n",
        "  def __init__(self):\n",
        "    self.lst=[]\n",
        "    for i in range(0,2):\n",
        "      n=input('Enter name: ')\n",
        "      a=int(input('Enter age: '))\n",
        "      r=int(input('Enter roll no.: '))\n",
        "      print()\n",
        "\n",
        "      self.lst.append(student(n, a, r))\n",
        "\n",
        "  def cmp_age(self):\n",
        "    if(self.lst[0].getage() == self.lst[1].getage()):\n",
        "      print('Equal')\n",
        "    else:\n",
        "      print('Not equal')\n",
        "\n",
        "x=two_std()\n",
        "x.cmp_age()"
      ],
      "execution_count": 7,
      "outputs": [
        {
          "output_type": "stream",
          "name": "stdout",
          "text": [
            "Enter name: abc\n",
            "Enter age: 14\n",
            "Enter roll no.: 140\n",
            "\n",
            "Enter name: xyz\n",
            "Enter age: 14\n",
            "Enter roll no.: 139\n",
            "\n",
            "Equal\n"
          ]
        }
      ]
    },
    {
      "cell_type": "code",
      "metadata": {
        "colab": {
          "base_uri": "https://localhost:8080/",
          "height": 134
        },
        "id": "ZwZ4DFPACl2M",
        "outputId": "01f0b909-a79f-4799-cae3-bed0ef69b8e3"
      },
      "source": [
        "#not working\n",
        "class stud:\n",
        "  sem=''\n",
        "  inst_detail=''\n",
        "  \n",
        "  def __init__(self, n, u, s, i):\n",
        "    self.name=name\n",
        "    self.usn=u\n",
        "    sem=s\n",
        "    inst_detail=i\n",
        "  \n",
        "  @classmethod\n",
        "  def cls_method(cls):\n",
        "    print('Sem:', sem)\n",
        "    print('Institute detail:', inst_detail)\n",
        "  \n",
        "  def ins_method(self):\n",
        "    print('Name:', self.name)\n",
        "    print('USN:', self.usn)\n",
        "  \n",
        "  @staticmethod\n",
        "  def stat_explain():\n",
        "    print('Instance variable or methods are unique for each object and to access them object needs to be created.')\n",
        "    print('Class variables or methods are shared across objects but object still needs to be created to use them.')\n",
        "    print('Static methods can be accessed with just the name of the class without object creation.'\n",
        "    \n",
        "obj=stud('rohit', 140, 3,'IIIT Dwd')\n",
        "obj.ins_method()\n",
        "obj.cls_method()\n",
        "student.stat_explain()"
      ],
      "execution_count": 25,
      "outputs": [
        {
          "output_type": "error",
          "ename": "SyntaxError",
          "evalue": "ignored",
          "traceback": [
            "\u001b[0;36m  File \u001b[0;32m\"<ipython-input-25-b40e4d8ce513>\"\u001b[0;36m, line \u001b[0;32m26\u001b[0m\n\u001b[0;31m    obj=stud()\u001b[0m\n\u001b[0m      ^\u001b[0m\n\u001b[0;31mSyntaxError\u001b[0m\u001b[0;31m:\u001b[0m invalid syntax\n"
          ]
        }
      ]
    },
    {
      "cell_type": "code",
      "metadata": {
        "id": "qZG3nm09aCPv"
      },
      "source": [
        "class stu:\n",
        "  class laptop:\n",
        "    def __init__(self):\n",
        "      self.cpu=input('Enter CPU name: ')\n",
        "      self.ram=int(input('Enter RAM size: '))\n",
        "      self.hard_disk=int(input('Enter hard_disk size: '))\n",
        "    def dis_lap(self):\n",
        "      print('CPU:', self.cpu,'RAM size:',self.ram,'Hard disk:',self.hard_disk)\n",
        "  def __init__(self):\n",
        "    self.name=input('Enter name: ')\n",
        "    self.roll_no=int(input('Enter roll no.: '))\n",
        "    self.sem=int(input('Enter sem: '))\n",
        "    lap1=laptop()\n",
        "    lap2=laptop()\n",
        "\n",
        "  def dis_stu(self):\n",
        "    print('Student name:')\n",
        "    print('Roll no.:')\n",
        "    print('Sem:')\n",
        "    print('laptop_1 deatil:')\n",
        "    lap1.dis_lap()\n",
        "    print('laptop_2 deatil:')\n",
        "    lap2.dis_lap()"
      ],
      "execution_count": null,
      "outputs": []
    }
  ]
}