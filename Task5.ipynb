{
  "nbformat": 4,
  "nbformat_minor": 0,
  "metadata": {
    "colab": {
      "name": "Untitled3.ipynb",
      "provenance": [],
      "authorship_tag": "ABX9TyN6+/flRIDqzyz1+As3ffJe",
      "include_colab_link": true
    },
    "kernelspec": {
      "name": "python3",
      "display_name": "Python 3"
    },
    "language_info": {
      "name": "python"
    }
  },
  "cells": [
    {
      "cell_type": "markdown",
      "metadata": {
        "id": "view-in-github",
        "colab_type": "text"
      },
      "source": [
        "<a href=\"https://colab.research.google.com/github/yd-14/OOP-lab-assignment/blob/main/Task5.ipynb\" target=\"_parent\"><img src=\"https://colab.research.google.com/assets/colab-badge.svg\" alt=\"Open In Colab\"/></a>"
      ]
    },
    {
      "cell_type": "code",
      "metadata": {
        "colab": {
          "base_uri": "https://localhost:8080/"
        },
        "id": "I5A0Wrm6Ld-C",
        "outputId": "7ea2be53-e30b-4a33-b4ae-e6ac6509eebf"
      },
      "source": [
        "from abc import ABC, abstractmethod\n",
        "\n",
        "class shape(ABC):\n",
        "  @abstractmethod\n",
        "  def area(self):\n",
        "    pass\n",
        "\n",
        "class rectangle(shape):\n",
        "  def __init__(self, a, b):\n",
        "    self.a=a\n",
        "    self.b=b\n",
        "\n",
        "  def area(self):\n",
        "    return self.a*self.b\n",
        "\n",
        "class square(shape):\n",
        "  def __init__(self, a):\n",
        "    self.a=a\n",
        "  def area(self):\n",
        "    return self.a*self.a\n",
        "\n",
        "class circle(shape):\n",
        "  def __init__(self, r):\n",
        "    self.r=r\n",
        "\n",
        "  def area(self):\n",
        "    return self.r*self.r*3.14\n",
        "\n",
        "x=rectangle(4,5)\n",
        "print(\"Area of rectangle:\", x.area())\n",
        "y=square(4)\n",
        "print(\"Area of square:\", y.area())\n",
        "z=circle(4)\n",
        "print(\"Area of circle:\", z.area())\n",
        "\n",
        "\n"
      ],
      "execution_count": 13,
      "outputs": [
        {
          "output_type": "stream",
          "name": "stdout",
          "text": [
            "Area of rectangle: 20\n",
            "Area of square: 16\n",
            "Area of circle: 50.24\n"
          ]
        }
      ]
    },
    {
      "cell_type": "code",
      "metadata": {
        "colab": {
          "base_uri": "https://localhost:8080/"
        },
        "id": "GD8SPjMT4S-O",
        "outputId": "56b9d3cc-37db-4d57-a081-54c2bee3dcd9"
      },
      "source": [
        "class travel(ABC):\n",
        "  num=5\n",
        "  def __init__(self, dis, mode):\n",
        "    self.dis=dis\n",
        "    self.mode=mode\n",
        "\n",
        "  @abstractmethod\n",
        "  def fare(self):\n",
        "    pass\n",
        "\n",
        "  def getnum(self, n=num):\n",
        "    return n\n",
        "\n",
        "class taxi(travel):\n",
        "  def __init__(self, dis):\n",
        "    super().__init__(dis, 'taxi')\n",
        "\n",
        "  def fare(self):\n",
        "    return 60*self.dis*self.getnum()\n",
        "\n",
        "class bus(travel):\n",
        "  def __init__(self, dis):\n",
        "    super().__init__(dis, 'bus')\n",
        "\n",
        "  def fare(self):\n",
        "    return 100*self.dis*self.getnum()\n",
        "\n",
        "x=taxi(100)\n",
        "print(\"fare for 100 kms in taxi:\",x.fare())\n",
        "\n",
        "y=bus(100)\n",
        "print(\"fare for 100 kms in bus:\",y.fare())"
      ],
      "execution_count": 11,
      "outputs": [
        {
          "output_type": "stream",
          "name": "stdout",
          "text": [
            "fare for 100 kms in taxi: 30000\n",
            "fare for 100 kms in bus: 50000\n"
          ]
        }
      ]
    },
    {
      "cell_type": "code",
      "metadata": {
        "colab": {
          "base_uri": "https://localhost:8080/"
        },
        "id": "t_3VFVot4TRB",
        "outputId": "35d2c9b8-e092-4953-ccf2-e11876b47ea8"
      },
      "source": [
        "class car:\n",
        "  def __init__(self, c):\n",
        "    self.code=c\n",
        "\n",
        "c1=car(10)\n",
        "c2=car(20)\n",
        "\n",
        "print(\"model before c1:\", c1.code,\"c2:\", c2.code)\n",
        "\n",
        "c1.code, c2.code= c2.code, c1.code\n",
        "\n",
        "print(\"model after c1:\", c1.code,\"c2:\", c2.code)"
      ],
      "execution_count": 15,
      "outputs": [
        {
          "output_type": "stream",
          "name": "stdout",
          "text": [
            "model before c1: 10 c2: 20\n",
            "model after c1: 20 c2: 10\n"
          ]
        }
      ]
    }
  ]
}