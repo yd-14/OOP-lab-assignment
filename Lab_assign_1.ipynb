{
  "nbformat": 4,
  "nbformat_minor": 0,
  "metadata": {
    "colab": {
      "name": "Lab_assign_1.ipynb",
      "provenance": [],
      "authorship_tag": "ABX9TyOnPXuNIW6D1DS2zttZCSPA",
      "include_colab_link": true
    },
    "kernelspec": {
      "name": "python3",
      "display_name": "Python 3"
    },
    "language_info": {
      "name": "python"
    }
  },
  "cells": [
    {
      "cell_type": "markdown",
      "metadata": {
        "id": "view-in-github",
        "colab_type": "text"
      },
      "source": [
        "<a href=\"https://colab.research.google.com/github/yd-14/OOP-lab-assignment/blob/main/Lab_assign_1.ipynb\" target=\"_parent\"><img src=\"https://colab.research.google.com/assets/colab-badge.svg\" alt=\"Open In Colab\"/></a>"
      ]
    },
    {
      "cell_type": "code",
      "metadata": {
        "colab": {
          "base_uri": "https://localhost:8080/"
        },
        "id": "zFMuosQYB9XC",
        "outputId": "fcde227f-a49a-455c-ec7f-390e77a4927e"
      },
      "source": [
        "def leap_check(x):\n",
        "  if(x%4==0):\n",
        "    if(x%100==0):\n",
        "      if(x%400==0):\n",
        "        return True\n",
        "      return False\n",
        "    return True\n",
        "  return False\n",
        "\n",
        "y=int(input(\"Enter year: \"))\n",
        "if(leap_check(y)):\n",
        "  print(\"Yes,\",y,\"is a leap year.\")\n",
        "else:\n",
        "  print(\"No,\",y,\"is not a leap year.\")"
      ],
      "execution_count": null,
      "outputs": [
        {
          "output_type": "stream",
          "name": "stdout",
          "text": [
            "Enter year: 2020\n",
            "Yes, 2020 is a leap year.\n"
          ]
        }
      ]
    },
    {
      "cell_type": "code",
      "metadata": {
        "colab": {
          "base_uri": "https://localhost:8080/"
        },
        "id": "MkEfbmG9DT8R",
        "outputId": "1c44e790-81d8-43d5-ef89-f169ad4b0314"
      },
      "source": [
        "def weird(x):\n",
        "  if(x%2==0):\n",
        "    print('weird')\n",
        "  elif(n>=2 and n<=5):\n",
        "    print('not weird')\n",
        "  elif(n>=6 and n<=20):\n",
        "    print('weird')\n",
        "  elif(n>20):\n",
        "    print('not weird')\n",
        "\n",
        "weird(int(input('Enter integer: ')))"
      ],
      "execution_count": null,
      "outputs": [
        {
          "output_type": "stream",
          "name": "stdout",
          "text": [
            "Enter integer: 20\n",
            "weird\n"
          ]
        }
      ]
    },
    {
      "cell_type": "code",
      "metadata": {
        "id": "v0Ao0170G2m0",
        "colab": {
          "base_uri": "https://localhost:8080/"
        },
        "outputId": "64b8cbaf-23d9-454a-f439-7b7feb35302a"
      },
      "source": [
        "def stupid_fashion(g_list,name):\n",
        "  l=len(g_list)\n",
        "  name.strip().lower()\n",
        "  for i in range(l//2,l-1):\n",
        "    g_list[i].strip().lower()\n",
        "    if(name==g_list[i]):\n",
        "     return True \n",
        "  return False\n",
        "\n",
        "lst = [item for item in input(\"Enter the list items : \").strip().split(',')]\n",
        "person=input('Enter name: ')\n",
        "if(stupid_fashion(lst,person)):\n",
        "  print('Yes,',person,'is fashionably late.')\n",
        "else:\n",
        "  print('No,',person,'is not fashionably late.')\n",
        "\n"
      ],
      "execution_count": 19,
      "outputs": [
        {
          "output_type": "stream",
          "name": "stdout",
          "text": [
            "Enter the list items : Hardik,Rahul,Virat,Rishabh,Mahi,Rohit,Rahane\n",
            "Enter name: Rohit\n",
            "Yes, Rohit is fashionably late.\n"
          ]
        }
      ]
    },
    {
      "cell_type": "code",
      "metadata": {
        "colab": {
          "base_uri": "https://localhost:8080/"
        },
        "id": "3gMtstcSqRY3",
        "outputId": "e5d7372d-2219-4ff9-d010-7b531b2a1620"
      },
      "source": [
        "def search_word(art_list, word):\n",
        "  x=[]\n",
        "  word.lower()\n",
        "  for i in art_list:\n",
        "    s=i.split(\" \")\n",
        "    for j in s:\n",
        "      j.lower()\n",
        "      if(j == word):\n",
        "        x.append(i)\n",
        "  return x\n",
        "\n",
        "lst = [item for item in input(\"Enter the list items : \").strip().split(',')]\n",
        "print('Articles of interest:',search_word(lst,input('Enter keyword: ')))"
      ],
      "execution_count": 12,
      "outputs": [
        {
          "output_type": "stream",
          "name": "stdout",
          "text": [
            "Enter the list items : The Learn Python Challenge Rohit,They bought a car, bangalore\n",
            "Enter keyword: car\n",
            "Articles of interest: ['They bought a car']\n"
          ]
        }
      ]
    },
    {
      "cell_type": "code",
      "metadata": {
        "colab": {
          "base_uri": "https://localhost:8080/"
        },
        "id": "qSpLx-aHpn1E",
        "outputId": "1315e8aa-08d6-4679-81b3-d2bdef213390"
      },
      "source": [
        "def gross_pay(bp):\n",
        "  da=0.4*bp\n",
        "  hra=0.2*bp\n",
        "  return da+hra+bp\n",
        "\n",
        "print('Gross pay:',gross_pay(int(input('Enter basic pay: '))))"
      ],
      "execution_count": 1,
      "outputs": [
        {
          "output_type": "stream",
          "name": "stdout",
          "text": [
            "Enter basic pay: 200\n",
            "Gross pay: 320.0\n"
          ]
        }
      ]
    }
  ]
}