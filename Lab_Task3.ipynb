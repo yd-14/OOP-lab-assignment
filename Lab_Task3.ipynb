{
  "nbformat": 4,
  "nbformat_minor": 0,
  "metadata": {
    "colab": {
      "name": "Lab-16Sep.ipynb",
      "provenance": [],
      "collapsed_sections": [],
      "authorship_tag": "ABX9TyNQYFmuzvbc7/F8PO/sscXl",
      "include_colab_link": true
    },
    "kernelspec": {
      "name": "python3",
      "display_name": "Python 3"
    },
    "language_info": {
      "name": "python"
    }
  },
  "cells": [
    {
      "cell_type": "markdown",
      "metadata": {
        "id": "view-in-github",
        "colab_type": "text"
      },
      "source": [
        "<a href=\"https://colab.research.google.com/github/yd-14/OOP-lab-assignment/blob/main/Lab_Task3.ipynb\" target=\"_parent\"><img src=\"https://colab.research.google.com/assets/colab-badge.svg\" alt=\"Open In Colab\"/></a>"
      ]
    },
    {
      "cell_type": "code",
      "metadata": {
        "colab": {
          "base_uri": "https://localhost:8080/"
        },
        "id": "hwAbi_afljN_",
        "outputId": "77874a0a-fde0-4e16-88b4-d2ff6ecc76e6"
      },
      "source": [
        "class student:  \n",
        "\n",
        "  def read(self):\n",
        "    self.name=input('Enter name: ')\n",
        "    self.reg=int(input('Enter Registration no.: '))\n",
        "    self.age=int(input('Enter Age: '))\n",
        "    self.gender=input('Enter gender: ')\n",
        "    self.branch=input('Enter branch: ')\n",
        "    self.sem=int(input('Enter sem: '))\n",
        "  \n",
        "  def dis(self):\n",
        "    print('Name:',self.name)\n",
        "    print('Reg. no.:',self.reg)\n",
        "    print('Age:',self.age)\n",
        "    print('gender:',self.gender)\n",
        "    print('branch:',self.branch)\n",
        "    print('Sem:',self.sem)\n",
        "\n",
        "class StudentResultInfo(student):\n",
        "  def __init__(self):\n",
        "    self.read()\n",
        "    self.read_2()\n",
        "  def read_2(self):\n",
        "    self.marks=int(input('Enter total marks: '))\n",
        "    self.per=int(input('Enter percentage: '))\n",
        "    self.grade=input('Enter grade: ')\n",
        "    print()\n",
        "\n",
        "  def dis_2(self):\n",
        "    self.dis()\n",
        "    print('total marks:', self.marks)\n",
        "    print('percentage:', self.per)\n",
        "    print('grade:', self.grade)\n",
        "\n",
        "x=StudentResultInfo()\n",
        "x.dis_2()"
      ],
      "execution_count": null,
      "outputs": [
        {
          "output_type": "stream",
          "name": "stdout",
          "text": [
            "Enter name: abc\n",
            "Enter Registration no.: 140\n",
            "Enter Age: 17\n",
            "Enter gender: male\n",
            "Enter branch: CS\n",
            "Enter sem: 3\n",
            "Enter total marks: 40\n",
            "Enter percentage: 85\n",
            "Enter grade: A+\n",
            "\n",
            "Name: abc\n",
            "Reg. no.: 140\n",
            "Age: 17\n",
            "gender: male\n",
            "branch: CS\n",
            "Sem: 3\n",
            "total marks: 40\n",
            "percentage: 85\n",
            "grade: A+\n"
          ]
        }
      ]
    },
    {
      "cell_type": "code",
      "metadata": {
        "id": "Bktx6tcGyJvl",
        "colab": {
          "base_uri": "https://localhost:8080/"
        },
        "outputId": "95826489-aeab-4464-e78b-0c19bbae358a"
      },
      "source": [
        "class pdf:\n",
        "  def __init__(self, auth, des, size):\n",
        "    self.author=auth\n",
        "    self.descrip=des\n",
        "    self.file_size=size\n",
        "\n",
        "  def get_deatils(self):\n",
        "    print('Author:',self.author)\n",
        "    print('Description:', self.descrip)\n",
        "    print('File size:', self.file_size)\n",
        "\n",
        "  def get_size(self):\n",
        "    return self.file_size\n",
        "\n",
        "class picture(pdf):\n",
        "  def __init__(self, auth, des, size, dim=[0,0]):\n",
        "    self.dimension=dim\n",
        "    pdf.__init__(self, auth, des, size)\n",
        "\n",
        "  def check_size(self, threshold):\n",
        "    if(threshold<self.get_size()):\n",
        "      print('!!! File too big')\n",
        "    else:\n",
        "      print('file size acceptable')\n",
        "\n",
        "  def dis_details(self):\n",
        "    self.get_deatils()\n",
        "    print('Picture dimensions:', self.dimensions)\n",
        "\n",
        "  def check_dimen(self, thres=[]):\n",
        "    if(thres[0]<self.dimension[0] or thres[1]<self.dimension[1]):\n",
        "      print('!!! Picture dimension too big')\n",
        "    else:\n",
        "      print('Picture size within limits')\n",
        "\n",
        "class content_sys(picture):\n",
        "  def __init__(self, type):\n",
        "    type.lower().strip()\n",
        "\n",
        "    x=input('Enter author name: ')\n",
        "    d=input('Enter description: ')\n",
        "    s=int(input('Enter file size: '))\n",
        "    if(type == 'pic'):\n",
        "      di1=int(input('Enter pic dimensions[0]: '))\n",
        "      di2=int(input('Enter pic dimensions[1]: '))\n",
        "      print()\n",
        "      picture.__init__(self, x, d, s, [di1, di2])\n",
        "    else:\n",
        "      picture.__init__(self, x, d, s)\n",
        "\n",
        "ob=content_sys('pic')\n",
        "ob.check_size(100)\n",
        "ob.check_dimen([200,200])\n",
        "  "
      ],
      "execution_count": null,
      "outputs": [
        {
          "output_type": "stream",
          "name": "stdout",
          "text": [
            "Enter author name: xyx\n",
            "Enter description: pic test\n",
            "Enter file size: 90\n",
            "Enter pic dimensions[0]: 210\n",
            "Enter pic dimensions[1]: 150\n",
            "\n",
            "file size acceptable\n",
            "!!! Picture dimension too big\n"
          ]
        }
      ]
    },
    {
      "cell_type": "code",
      "metadata": {
        "colab": {
          "base_uri": "https://localhost:8080/"
        },
        "id": "AEPox5ZW5pfb",
        "outputId": "13d6f74d-754d-49ca-9e7f-f13dcc4fac7b"
      },
      "source": [
        "class vehicle:\n",
        "  def __init__(self, n, m, c):\n",
        "    self.name=n\n",
        "    self.mileage=m\n",
        "    self.capacity=c\n",
        "\n",
        "  def get_fare(self):\n",
        "    return self.capacity*100\n",
        "\n",
        "class bus(vehicle):\n",
        "  def __init__(self, n, m):\n",
        "    vehicle.__init__(self, n, m, 50)\n",
        "\n",
        "  def tot_fare(self):\n",
        "    return self.get_fare()+self.get_fare()*0.1\n",
        "\n",
        "x=bus('tata', 5)\n",
        "print('total fare:', x.tot_fare())"
      ],
      "execution_count": null,
      "outputs": [
        {
          "output_type": "stream",
          "name": "stdout",
          "text": [
            "total fare: 5500.0\n"
          ]
        }
      ]
    }
  ]
}